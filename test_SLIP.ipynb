{
 "cells": [
  {
   "cell_type": "markdown",
   "metadata": {},
   "source": [
    "A series of tests of the SLIP package."
   ]
  },
  {
   "cell_type": "code",
   "execution_count": null,
   "metadata": {},
   "outputs": [],
   "source": [
    "%load_ext autoreload\n",
    "%autoreload 2\n",
    "import os\n",
    "import numpy as np\n",
    "%matplotlib inline\n",
    "import matplotlib.pyplot as plt\n",
    "fopts = {'fontsize':18}"
   ]
  },
  {
   "cell_type": "code",
   "execution_count": null,
   "metadata": {},
   "outputs": [],
   "source": [
    "from SLIP import Image, imread"
   ]
  },
  {
   "cell_type": "code",
   "execution_count": null,
   "metadata": {
    "scrolled": false
   },
   "outputs": [],
   "source": [
    "help(Image)"
   ]
  },
  {
   "cell_type": "markdown",
   "metadata": {},
   "source": [
    "## initializing the SLIP object\n",
    "\n",
    "The SLIP object may be initialized by giving some parameters. These could be given using "
   ]
  },
  {
   "cell_type": "markdown",
   "metadata": {},
   "source": [
    "- nothing"
   ]
  },
  {
   "cell_type": "code",
   "execution_count": null,
   "metadata": {},
   "outputs": [],
   "source": [
    "im = Image()  # default is 'https://raw.githubusercontent.com/bicv/SLIP/master/default_param.py'\n",
    "print(im.pe)"
   ]
  },
  {
   "cell_type": "markdown",
   "metadata": {},
   "source": [
    "- a dictionary (dimensions ``N_X`` and ``N_Y`` and ``mask_exponent`` are mandatory)"
   ]
  },
  {
   "cell_type": "code",
   "execution_count": null,
   "metadata": {},
   "outputs": [],
   "source": [
    "im = Image({'N_X':32, 'N_Y':64})\n",
    "print(im.pe)"
   ]
  },
  {
   "cell_type": "markdown",
   "metadata": {},
   "source": [
    "- a ``ndarray`` (dimensions ``N_X`` and ``N_Y`` are guessed from this array)"
   ]
  },
  {
   "cell_type": "code",
   "execution_count": null,
   "metadata": {},
   "outputs": [],
   "source": [
    "im = Image(np.empty((32, 64)))\n",
    "print(im.pe)"
   ]
  },
  {
   "cell_type": "markdown",
   "metadata": {},
   "source": [
    "- a string indicating the path of a image file"
   ]
  },
  {
   "cell_type": "code",
   "execution_count": null,
   "metadata": {},
   "outputs": [],
   "source": [
    "im = Image('database/lena64.png')\n",
    "print(im.pe)"
   ]
  },
  {
   "cell_type": "markdown",
   "metadata": {},
   "source": [
    "- a string indicating the URL to a image file"
   ]
  },
  {
   "cell_type": "code",
   "execution_count": null,
   "metadata": {},
   "outputs": [],
   "source": [
    "im = Image('http://upload.wikimedia.org/wikipedia/commons/d/de/Wikipedia_Logo_1.0.png')\n",
    "print(im.pe)"
   ]
  },
  {
   "cell_type": "markdown",
   "metadata": {},
   "source": [
    "- a string indicating the path of a file containing a dictionary"
   ]
  },
  {
   "cell_type": "code",
   "execution_count": null,
   "metadata": {},
   "outputs": [],
   "source": [
    "im = Image('file://default_param.py')\n",
    "im = Image('default_param.py')\n",
    "print(im.pe.keys())"
   ]
  },
  {
   "cell_type": "markdown",
   "metadata": {},
   "source": [
    "- a string indicating the URL of a file containing a dictionary"
   ]
  },
  {
   "cell_type": "code",
   "execution_count": null,
   "metadata": {},
   "outputs": [],
   "source": [
    "im = Image('https://raw.githubusercontent.com/bicv/SLIP/master/default_param.py')\n",
    "print(im.pe.keys())"
   ]
  },
  {
   "cell_type": "markdown",
   "metadata": {},
   "source": [
    "- a NeuroTools object"
   ]
  },
  {
   "cell_type": "code",
   "execution_count": null,
   "metadata": {},
   "outputs": [],
   "source": [
    "from NeuroTools.parameters import ParameterSet\n",
    "from SLIP import Image\n",
    "im = Image(ParameterSet({'N_X':128, 'N_Y':256}))"
   ]
  },
  {
   "cell_type": "markdown",
   "metadata": {},
   "source": [
    "The parameters may be handled using the properties of the ``ParameterSet`` object."
   ]
  },
  {
   "cell_type": "markdown",
   "metadata": {},
   "source": [
    "## resizing the SLIP object\n",
    "\n",
    "The SLIP object may be adapted to a new size\n",
    "\n",
    "- nothing"
   ]
  },
  {
   "cell_type": "code",
   "execution_count": null,
   "metadata": {
    "scrolled": false
   },
   "outputs": [],
   "source": [
    "help(im.set_size)"
   ]
  },
  {
   "cell_type": "code",
   "execution_count": null,
   "metadata": {},
   "outputs": [],
   "source": [
    "im = Image()  # default is {'N_X':128, 'N_Y':128}\n",
    "print(im.pe)"
   ]
  },
  {
   "cell_type": "code",
   "execution_count": null,
   "metadata": {},
   "outputs": [],
   "source": [
    "im.set_size((512, 234))\n",
    "print(im.pe)"
   ]
  },
  {
   "cell_type": "code",
   "execution_count": null,
   "metadata": {},
   "outputs": [],
   "source": [
    "im.set_size(np.ones((512, 234)))\n",
    "print(im.pe)"
   ]
  },
  {
   "cell_type": "code",
   "execution_count": null,
   "metadata": {},
   "outputs": [],
   "source": [
    "im.set_size('http://upload.wikimedia.org/wikipedia/commons/d/de/Wikipedia_Logo_1.0.png')\n",
    "print(im.pe)"
   ]
  },
  {
   "cell_type": "markdown",
   "metadata": {},
   "source": [
    "## testing logging\n",
    "\n",
    "we use https://docs.python.org/3.4/library/logging.html to handle logging of events"
   ]
  },
  {
   "cell_type": "code",
   "execution_count": null,
   "metadata": {},
   "outputs": [],
   "source": [
    "im = Image()\n",
    "print('Verbosity level=', im.pe.verbose)"
   ]
  },
  {
   "cell_type": "code",
   "execution_count": null,
   "metadata": {},
   "outputs": [],
   "source": [
    "im.log.debug(' > this should not appear')\n",
    "im.log.info(' > this should not appear')\n",
    "im.log.error(' > this *should* appear')"
   ]
  },
  {
   "cell_type": "raw",
   "metadata": {},
   "source": [
    "Logging Levels\n",
    "--------------\n",
    "\n",
    "The numeric values of logging levels are given in the following table. These are\n",
    "primarily of interest if you want to define your own levels, and need them to\n",
    "have specific values relative to the predefined levels. If you define a level\n",
    "with the same numeric value, it overwrites the predefined value; the predefined\n",
    "name is lost.\n",
    "\n",
    "+--------------+---------------+\n",
    "| Level        | Numeric value |\n",
    "+==============+===============+\n",
    "| ``CRITICAL`` | 50            |\n",
    "+--------------+---------------+\n",
    "| ``ERROR``    | 40            |\n",
    "+--------------+---------------+\n",
    "| ``WARNING``  | 30            |\n",
    "+--------------+---------------+\n",
    "| ``INFO``     | 20            |\n",
    "+--------------+---------------+\n",
    "| ``DEBUG``    | 10            |\n",
    "+--------------+---------------+\n",
    "| ``NOTSET``   | 0             |\n",
    "+--------------+---------------+\n",
    "\n"
   ]
  },
  {
   "cell_type": "code",
   "execution_count": null,
   "metadata": {},
   "outputs": [],
   "source": [
    "im.pe.verbose = 15\n",
    "im.init_logging()\n",
    "im.log.debug(' > this should not appear')\n",
    "im.log.info(' > this *should* appear')\n",
    "im.log.error(' > this *should* appear')"
   ]
  },
  {
   "cell_type": "markdown",
   "metadata": {},
   "source": [
    "## basic parameter check\n",
    "\n",
    "TODO"
   ]
  },
  {
   "cell_type": "code",
   "execution_count": null,
   "metadata": {},
   "outputs": [],
   "source": [
    "try:\n",
    "    Image({'N_X':128, 'N_Y':-12, 'mask_exponent':3})\n",
    "except Exception as e:\n",
    "    print(e) "
   ]
  },
  {
   "cell_type": "markdown",
   "metadata": {},
   "source": [
    "## testing reading an image file\n",
    "\n",
    "Note that if the image is of a different size, the size of the ``Image`` object is adapted:"
   ]
  },
  {
   "cell_type": "code",
   "execution_count": null,
   "metadata": {},
   "outputs": [],
   "source": [
    "im = Image()\n",
    "print(im.pe)\n",
    "image = im.imread('database/lena64.png')\n",
    "print(im.pe)"
   ]
  },
  {
   "cell_type": "code",
   "execution_count": null,
   "metadata": {},
   "outputs": [],
   "source": [
    "image = im.imread('http://upload.wikimedia.org/wikipedia/commons/d/de/Wikipedia_Logo_1.0.png')\n",
    "print(im.pe)"
   ]
  },
  {
   "cell_type": "markdown",
   "metadata": {},
   "source": [
    "## testing showing an image file\n",
    "\n"
   ]
  },
  {
   "cell_type": "code",
   "execution_count": null,
   "metadata": {},
   "outputs": [],
   "source": [
    "'N_X' in im.pe.keys()\n"
   ]
  },
  {
   "cell_type": "code",
   "execution_count": null,
   "metadata": {},
   "outputs": [],
   "source": [
    "im = Image()\n",
    "print(im.pe)\n",
    "image = im.imread('database/lena64.png')\n",
    "_ = im.imshow(image)"
   ]
  },
  {
   "cell_type": "code",
   "execution_count": null,
   "metadata": {
    "scrolled": true
   },
   "outputs": [],
   "source": [
    "image = im.imread('http://upload.wikimedia.org/wikipedia/commons/d/de/Wikipedia_Logo_1.0.png')\n",
    "_ = im.imshow(image)"
   ]
  },
  {
   "cell_type": "code",
   "execution_count": null,
   "metadata": {},
   "outputs": [],
   "source": [
    "_ = im.show_spectrum(image)"
   ]
  },
  {
   "cell_type": "markdown",
   "metadata": {},
   "source": [
    "## testing import and cropping"
   ]
  },
  {
   "cell_type": "code",
   "execution_count": null,
   "metadata": {},
   "outputs": [],
   "source": [
    "axs = []\n",
    "im = Image({'N_X':32, 'N_Y':128, 'seed':None, 'do_mask':False})\n",
    "im.pe.datapath = 'database/'\n",
    "for name_database in ['serre07_targets', 'serre07_distractors']:\n",
    "    fig = plt.figure(figsize=(14, 3.5))\n",
    "    for _ in range(4):\n",
    "        image, filename, croparea = im.patch(name_database, )\n",
    "        ax = fig.add_subplot(1, 4, _+1)\n",
    "        im.imshow(image, fig=fig, ax=ax)\n",
    "    fig.show()"
   ]
  },
  {
   "cell_type": "markdown",
   "metadata": {},
   "source": [
    "## Handling a database"
   ]
  },
  {
   "cell_type": "code",
   "execution_count": null,
   "metadata": {},
   "outputs": [],
   "source": [
    "im = Image({'N_X':64, 'N_Y':128, 'seed':None, 'do_mask':False, 'N_image':10})\n",
    "im.pe.datapath = 'database/'\n",
    "help(im.make_imagelist)\n",
    "# extract one image list from a database\n",
    "imagelist = im.make_imagelist('serre07_targets')\n",
    "print('Number of images:', len(imagelist))\n",
    "print('First image:', imagelist[0])"
   ]
  },
  {
   "cell_type": "code",
   "execution_count": null,
   "metadata": {},
   "outputs": [],
   "source": [
    "help(im.get_imagelist)\n",
    "im.pe.figpath, im.pe.matpath = '/tmp/fig', '/tmp/mat'\n",
    "# store one image list from a database\n",
    "imagelist = im.get_imagelist('classifier', 'serre07_targets')\n",
    "!ls -l /tmp/mat\n",
    "print('Number of images:', len(imagelist))\n",
    "print('First image:', imagelist[0])"
   ]
  },
  {
   "cell_type": "code",
   "execution_count": null,
   "metadata": {},
   "outputs": [],
   "source": [
    "im = Image({'N_X':128, 'N_Y':128, 'seed':None, 'do_mask':False, 'N_image':10})\n",
    "im.pe.figpath, im.pe.matpath = '/tmp/fig', '/tmp/mat'\n",
    "# now we can access again this stored list\n",
    "!ls -l /tmp/mat\n",
    "imagelist = im.get_imagelist('classifier', 'serre07_targets')\n",
    "print('Number of images:', len(imagelist))\n",
    "print('First image:', imagelist[0])"
   ]
  },
  {
   "cell_type": "markdown",
   "metadata": {},
   "source": [
    "## checking basic translation mechanism"
   ]
  },
  {
   "cell_type": "markdown",
   "metadata": {},
   "source": [
    "defining a reference test image; check the axis labels for a (x,y) translation"
   ]
  },
  {
   "cell_type": "code",
   "execution_count": null,
   "metadata": {
    "scrolled": true
   },
   "outputs": [],
   "source": [
    "im = Image({'N_X':128, 'N_Y':256})\n",
    "image = np.zeros((im.pe.N_X, im.pe.N_Y))\n",
    "image[im.pe.N_X//2:im.pe.N_X//2+im.pe.N_X//4, im.pe.N_X//2:im.pe.N_X//2+im.pe.N_X//4] = 1 # white square on the right\n",
    "image[im.pe.N_X//2:im.pe.N_X//2+im.pe.N_X//4, im.pe.N_X//4:im.pe.N_X//2] = -1  # black square on its left\n",
    "_ = im.imshow(image, axis=True)"
   ]
  },
  {
   "cell_type": "markdown",
   "metadata": {},
   "source": [
    "translating the image by an integer by rolling indices\n"
   ]
  },
  {
   "cell_type": "code",
   "execution_count": null,
   "metadata": {},
   "outputs": [],
   "source": [
    "print(im.pe.N_X//8., im.pe.N_Y//4.)\n",
    "_ = im.imshow(np.roll(np.roll(image, np.int(im.pe.N_X//8.), axis=0), np.int(im.pe.N_X//4.), axis=1))"
   ]
  },
  {
   "cell_type": "markdown",
   "metadata": {},
   "source": [
    "remember **axis conventions** are: x going down, y going right with the origin on top"
   ]
  },
  {
   "cell_type": "markdown",
   "metadata": {},
   "source": [
    "translating the image down"
   ]
  },
  {
   "cell_type": "code",
   "execution_count": null,
   "metadata": {},
   "outputs": [],
   "source": [
    "_ = im.imshow(im.translate(image, [im.pe.N_X//8., 0.]))"
   ]
  },
  {
   "cell_type": "markdown",
   "metadata": {},
   "source": [
    "translating the image right"
   ]
  },
  {
   "cell_type": "code",
   "execution_count": null,
   "metadata": {},
   "outputs": [],
   "source": [
    "_ = im.imshow(im.translate(image, [0., im.pe.N_Y//4.]))"
   ]
  },
  {
   "cell_type": "markdown",
   "metadata": {},
   "source": [
    "translating the image on both axis"
   ]
  },
  {
   "cell_type": "code",
   "execution_count": null,
   "metadata": {},
   "outputs": [],
   "source": [
    "_ = im.imshow(im.translate(image, [im.pe.N_X//8., im.pe.N_Y//4.]))"
   ]
  },
  {
   "cell_type": "markdown",
   "metadata": {},
   "source": [
    "translating the image over the torus"
   ]
  },
  {
   "cell_type": "code",
   "execution_count": null,
   "metadata": {},
   "outputs": [],
   "source": [
    "_ = im.imshow(im.translate(image, [im.pe.N_X//2., im.pe.N_Y//4.]))"
   ]
  },
  {
   "cell_type": "markdown",
   "metadata": {},
   "source": [
    "[Back to top](#SLIP)"
   ]
  },
  {
   "cell_type": "markdown",
   "metadata": {},
   "source": [
    "## some checks that should produce gray images (= null error)"
   ]
  },
  {
   "cell_type": "markdown",
   "metadata": {},
   "source": [
    "null translation gives the same image"
   ]
  },
  {
   "cell_type": "code",
   "execution_count": null,
   "metadata": {},
   "outputs": [],
   "source": [
    "_ = im.imshow(image - im.translate(image, [0., 0.]), norm=False)"
   ]
  },
  {
   "cell_type": "markdown",
   "metadata": {},
   "source": [
    "the lg.translate function is invertible"
   ]
  },
  {
   "cell_type": "code",
   "execution_count": null,
   "metadata": {},
   "outputs": [],
   "source": [
    "_ = im.imshow(image - im.translate(im.translate(image, [1.64, -2.233]), [-1.64, 2.233]), norm=False)"
   ]
  },
  {
   "cell_type": "markdown",
   "metadata": {},
   "source": [
    "also true for bigger translations  (we separate integer part from fractional part in the translation)"
   ]
  },
  {
   "cell_type": "code",
   "execution_count": null,
   "metadata": {},
   "outputs": [],
   "source": [
    "_ = im.imshow(image - im.translate(im.translate(image, [182.64, -286.233]), [-182.64, 286.233], preshift=True), norm=False)"
   ]
  },
  {
   "cell_type": "markdown",
   "metadata": {},
   "source": [
    "but not always true when we don't separate"
   ]
  },
  {
   "cell_type": "code",
   "execution_count": null,
   "metadata": {},
   "outputs": [],
   "source": [
    "_ = im.imshow(image - im.translate(im.translate(image, [182.64, -286.233]), [-182.64, 286.233], preshift=False), norm=False)"
   ]
  },
  {
   "cell_type": "markdown",
   "metadata": {},
   "source": [
    "the lg.translate function is periodic"
   ]
  },
  {
   "cell_type": "code",
   "execution_count": null,
   "metadata": {},
   "outputs": [],
   "source": [
    "_ = im.imshow(image - im.translate(image, [-45*im.pe.N_X, 5*im.pe.N_Y]), norm=False)"
   ]
  },
  {
   "cell_type": "markdown",
   "metadata": {},
   "source": [
    "lg.translate function is associative"
   ]
  },
  {
   "cell_type": "code",
   "execution_count": null,
   "metadata": {},
   "outputs": [],
   "source": [
    "_ = im.imshow(im.translate(image, [1., .0]) - im.translate(im.translate(image, [.5, .0]), [.5, .0]), norm=False)"
   ]
  },
  {
   "cell_type": "code",
   "execution_count": null,
   "metadata": {},
   "outputs": [],
   "source": [
    "_ = im.imshow(im.translate(image, [2., .0]) - im.translate(im.translate(image, [1.5, -1.0]), [.5, 1.0]), norm=False)"
   ]
  },
  {
   "cell_type": "markdown",
   "metadata": {},
   "source": [
    "## filtering\n",
    "\n",
    "Check out the discussion @ http://blog.invibe.net/posts/2017-09-20-the-fastest-2d-convolution-in-the-world.html"
   ]
  },
  {
   "cell_type": "markdown",
   "metadata": {},
   "source": [
    "## whitening\n",
    "\n",
    "Here, we test the whitening on different images."
   ]
  },
  {
   "cell_type": "code",
   "execution_count": null,
   "metadata": {
    "scrolled": false
   },
   "outputs": [],
   "source": [
    "axs = []\n",
    "im = Image('default_param.py')\n",
    "im.pe.datapath = 'database/'\n",
    "for name_database in ['serre07_targets', 'serre07_distractors']:\n",
    "    for _ in range(4):\n",
    "        fig = plt.figure(figsize=(14, 7))\n",
    "        image, filename, croparea = im.patch(name_database, )\n",
    "        ax = fig.add_subplot(1, 2, 1)\n",
    "        fig , ax = im.imshow(image, fig=fig, ax=ax)\n",
    "        ax = fig.add_subplot(1, 2, 2)\n",
    "        fig , ax = im.imshow(im.whitening(image), fig=fig, ax=ax)\n",
    "        plt.show()"
   ]
  },
  {
   "cell_type": "markdown",
   "metadata": {},
   "source": [
    "[Back to top](#SLIP)"
   ]
  },
  {
   "cell_type": "markdown",
   "metadata": {},
   "source": [
    "## more book keeping"
   ]
  },
  {
   "cell_type": "code",
   "execution_count": null,
   "metadata": {},
   "outputs": [],
   "source": [
    "%load_ext watermark\n",
    "%watermark"
   ]
  },
  {
   "cell_type": "markdown",
   "metadata": {},
   "source": [
    "[Back to top](#SLIP)"
   ]
  }
 ],
 "metadata": {
  "kernelspec": {
   "display_name": "Python 3",
   "language": "python",
   "name": "python3"
  },
  "language_info": {
   "codemirror_mode": {
    "name": "ipython",
    "version": 3
   },
   "file_extension": ".py",
   "mimetype": "text/x-python",
   "name": "python",
   "nbconvert_exporter": "python",
   "pygments_lexer": "ipython3",
   "version": "3.6.5"
  },
  "toc": {
   "base_numbering": 1,
   "nav_menu": {},
   "number_sections": true,
   "sideBar": true,
   "skip_h1_title": false,
   "title_cell": "Table of Contents",
   "title_sidebar": "Contents",
   "toc_cell": false,
   "toc_position": {},
   "toc_section_display": true,
   "toc_window_display": false
  }
 },
 "nbformat": 4,
 "nbformat_minor": 1
}
