{
 "cells": [
  {
   "cell_type": "markdown",
   "metadata": {},
   "source": [
    "A series of tests of the SLIP package."
   ]
  },
  {
   "cell_type": "code",
   "execution_count": 1,
   "metadata": {
    "collapsed": true
   },
   "outputs": [],
   "source": [
    "%load_ext autoreload\n",
    "%autoreload 2\n",
    "from SLIP import Image"
   ]
  },
  {
   "cell_type": "markdown",
   "metadata": {},
   "source": [
    "## initializing the SLIP object\n",
    "\n",
    "The SLIP object may be initialized by giving some parameters. These could be given using \n",
    "\n",
    "- a dictionary"
   ]
  },
  {
   "cell_type": "code",
   "execution_count": 12,
   "metadata": {
    "collapsed": false
   },
   "outputs": [
    {
     "name": "stdout",
     "output_type": "stream",
     "text": [
      "{'N_X': 128, 'N_Y': 128}\n"
     ]
    }
   ],
   "source": [
    "im = Image()  # default is {'N_X':128, 'N_Y':128}\n",
    "print(im.pe)"
   ]
  },
  {
   "cell_type": "code",
   "execution_count": 13,
   "metadata": {
    "collapsed": false
   },
   "outputs": [],
   "source": [
    "im = Image({'N_X':128, 'N_Y':128})"
   ]
  },
  {
   "cell_type": "markdown",
   "metadata": {},
   "source": [
    "- a string indicating the path of a file containing a dictionary"
   ]
  },
  {
   "cell_type": "code",
   "execution_count": 14,
   "metadata": {
    "collapsed": false
   },
   "outputs": [
    {
     "name": "stdout",
     "output_type": "stream",
     "text": [
      "dict_keys(['datapath', 'do_mask', 'N_Y', 'white_alpha', 'white_N', 'white_f_0', 'N_X', 'white_n_learning', 'ext', 'seed', 'white_name_database', 'white_N_0', 'matpath', 'figpath', 'white_recompute', 'white_steepness', 'N_image'])\n"
     ]
    }
   ],
   "source": [
    "im = Image('file://default_param.py')\n",
    "im = Image('default_param.py')\n",
    "print(im.pe.keys())"
   ]
  },
  {
   "cell_type": "markdown",
   "metadata": {},
   "source": [
    "- a string indicating the URL of a file containing a dictionary"
   ]
  },
  {
   "cell_type": "code",
   "execution_count": 15,
   "metadata": {
    "collapsed": false
   },
   "outputs": [
    {
     "name": "stdout",
     "output_type": "stream",
     "text": [
      "dict_keys(['datapath', 'do_mask', 'N_Y', 'white_alpha', 'white_N', 'white_f_0', 'N_X', 'white_n_learning', 'ext', 'seed', 'white_name_database', 'white_N_0', 'matpath', 'figpath', 'white_recompute', 'white_steepness', 'N_image'])\n"
     ]
    }
   ],
   "source": [
    "im = Image('https://raw.githubusercontent.com/meduz/SLIP/master/default_param.py')\n",
    "print(im.pe.keys())"
   ]
  },
  {
   "cell_type": "markdown",
   "metadata": {},
   "source": [
    "- a NeuroTools object"
   ]
  },
  {
   "cell_type": "code",
   "execution_count": 11,
   "metadata": {
    "collapsed": true
   },
   "outputs": [],
   "source": [
    "from NeuroTools.parameters import ParameterSet\n",
    "from SLIP import Image\n",
    "im = Image(ParameterSet({'N_X':128, 'N_Y':128}))"
   ]
  },
  {
   "cell_type": "markdown",
   "metadata": {},
   "source": [
    "The parameters may be handled using the properties of the ``ParameterSet`` object."
   ]
  }
 ],
 "metadata": {
  "kernelspec": {
   "display_name": "Python 3",
   "language": "python",
   "name": "python3"
  },
  "language_info": {
   "codemirror_mode": {
    "name": "ipython",
    "version": 3
   },
   "file_extension": ".py",
   "mimetype": "text/x-python",
   "name": "python",
   "nbconvert_exporter": "python",
   "pygments_lexer": "ipython3",
   "version": "3.4.3"
  }
 },
 "nbformat": 4,
 "nbformat_minor": 0
}
